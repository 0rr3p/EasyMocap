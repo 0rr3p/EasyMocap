{
 "cells": [
  {
   "cell_type": "markdown",
   "id": "54566e44-6986-4dd0-a8a8-df68ed06fca9",
   "metadata": {},
   "source": [
    "Welcome to the installation process.\n",
    "Remember to run all these commands in the Conda terminal (Anaconda Prompt) and not directly from the notebook!\n",
    "Now let’s see how to proceed…\n",
    "The first thing to do is install Anaconda.\n",
    "https://repo.anaconda.com/miniconda/Miniconda3-latest-Windows-x86_64.exe \n",
    "Once Anaconda is installed, open the Conda prompt and create an environment named easymocap (for simplicity) in which we will work using the command:"
   ]
  },
  {
   "cell_type": "code",
   "execution_count": null,
   "id": "8cfedce4-a00e-4bba-bf69-d1783b266368",
   "metadata": {},
   "outputs": [],
   "source": [
    "conda create -n easymocap python=3.9 -y"
   ]
  },
  {
   "cell_type": "markdown",
   "id": "d59fad5e-f22c-49f1-8a8d-9d4e42aafb5c",
   "metadata": {},
   "source": [
    "Once the env is created, we can activate it with the following command:"
   ]
  },
  {
   "cell_type": "code",
   "execution_count": null,
   "id": "9f28af22-25d2-4b93-96b9-f2e35827549e",
   "metadata": {},
   "outputs": [],
   "source": [
    "conda activate easymocap"
   ]
  },
  {
   "cell_type": "markdown",
   "id": "9f077d04-d2cb-4c24-9e02-f60980fb1aa9",
   "metadata": {},
   "source": [
    "ONE LINE AT A TIME ! Once our environment is activated, proceed first with installing JupyterLab and git in our env, and then clone the repository."
   ]
  },
  {
   "cell_type": "code",
   "execution_count": null,
   "id": "0380d322-ad31-40b0-9ede-f9bd7c0d8fa6",
   "metadata": {},
   "outputs": [],
   "source": [
    "conda install git\n",
    "conda install -c conda-forge jupyterlab\n",
    "git clone https://github.com/0rr3p/EasyMocap.git"
   ]
  },
  {
   "cell_type": "markdown",
   "id": "1a447c74-555e-4164-9af6-a1dd970345a9",
   "metadata": {},
   "source": [
    "Now we will install the requirements (for best results run one line at a time) using:"
   ]
  },
  {
   "cell_type": "code",
   "execution_count": null,
   "id": "4ec777f5-5101-495a-9efb-58b61f541568",
   "metadata": {},
   "outputs": [],
   "source": [
    "pip install torch==1.9.1+cu111 torchvision==0.10.1+cu111 -f https://download.pytorch.org/whl/torch_stable.html\n",
    "pip install pyrender\n",
    "pip install open3d\n",
    "pip install pyvista \n",
    "pip install trimesh \n",
    "pip install pyyaml \n",
    "conda install -c conda-forge ffmpeg\n",
    "cd pathtoEasymocapfolder (you can find it in local disk->users)/EasyMocap\n",
    "python -m pip install -r requirements.txt\n",
    "python setup.py develop"
   ]
  },
  {
   "cell_type": "markdown",
   "id": "c192ff06-f6e8-4440-9b52-5c9fa8b6ea48",
   "metadata": {},
   "source": [
    "And that’s it.\n",
    "From now on, to work on EasyMocap, just open the Anaconda Prompt and type the following commands:"
   ]
  },
  {
   "cell_type": "code",
   "execution_count": null,
   "id": "fb9eecea-8092-4aea-a02e-df27a19a0ba3",
   "metadata": {},
   "outputs": [],
   "source": [
    "conda activate easymocap\n",
    "jupyter lab"
   ]
  }
 ],
 "metadata": {
  "kernelspec": {
   "display_name": "Python 3 (ipykernel)",
   "language": "python",
   "name": "python3"
  },
  "language_info": {
   "codemirror_mode": {
    "name": "ipython",
    "version": 3
   },
   "file_extension": ".py",
   "mimetype": "text/x-python",
   "name": "python",
   "nbconvert_exporter": "python",
   "pygments_lexer": "ipython3",
   "version": "3.9.21"
  }
 },
 "nbformat": 4,
 "nbformat_minor": 5
}
