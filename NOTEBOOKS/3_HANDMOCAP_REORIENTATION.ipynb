{
 "cells": [
  {
   "cell_type": "markdown",
   "metadata": {},
   "source": [
    "Before starting let's go back to out main directory. In USERNAME write the user path you are using..."
   ]
  },
  {
   "cell_type": "code",
   "execution_count": null,
   "metadata": {},
   "outputs": [],
   "source": [
    "import os \n",
    "os.chdir('C:/Users/USERNAME/')"
   ]
  },
  {
   "cell_type": "markdown",
   "metadata": {},
   "source": [
    "During this phase, we will do two things:\n",
    "\n",
    "->Get familiar with the functions used for motion capture.\n",
    "\n",
    "->Reorient the global coordinate system of the cameras to make it much easier to later construct the bounding boxes used to detect the component being worked on.\n",
    "\n",
    "Before doing anything, record some videos (always under 1 minute) with the following characteristics:\n",
    "\n",
    "->Hand movements should not be too fast.\n",
    "\n",
    "->The videos should start with the operator slowly opening and closing both hands above the component.\n",
    "\n",
    "However, there is still one important consideration: in order to simplify the later description of volumes (bounding boxes of components) in 3D space, the global coordinate system must at least be consistent and aligned with certain key points (belonging to the unit on the workbench) chosen arbitrarily by the user.\n",
    "\n",
    "We will therefore choose to record videos in which the user, moving their right index finger (marked by keypoint number 8), points to 3 locations on the component:\n",
    "\n",
    "-The origin of the new coordinate system (referred to as O from now on)\n",
    "\n",
    "-A point along the new X-axis  (referred to as X from now on)\n",
    "\n",
    "-A point along the new Y-axis (referred to as Y from now on)\n",
    "\n",
    "Important note! The user must ensure that these points are chosen so that there is already an orthogonal geometry between the X and Y points (for example, if thinking about a motherboard, it would be advisable to place these two points on two opposite corners).\n",
    "Important note 2! To avoid \"non-perfectly aligned global coordinate systems\" due to small deviations between the real 3D position of the keypoint and the triangulated position calculated by the motion capture functions, it is recommended to place the X and Y points as far as possible from the chosen origin, while still remaining on the component"
   ]
  },
  {
   "cell_type": "markdown",
   "metadata": {},
   "source": [
    "To begin, using the commands below, we will create a folder named videos inside EasyMocap/data and upload the calibration files into it.\n",
    "\n",
    "Next, record and upload the videos you want to use for motion capture to fine-tune the reference system.\n",
    "Regarding the video specifications, the same considerations used during calibration apply.\n",
    "\n",
    "After uploading the videos, also load the extri.yml and intri.yml files previously obtained during the calibration phase and contained in extri_data."
   ]
  },
  {
   "cell_type": "code",
   "execution_count": null,
   "metadata": {},
   "outputs": [],
   "source": [
    "import os \n",
    "import shutil\n",
    "\n",
    "os.makedirs('EasyMocap/data/videos', exist_ok=True)\n",
    "shutil.copy('EasyMocap/yamls/intri.yml' ,'EasyMocap/data')\n",
    "shutil.copy('EasyMocap/yamls/extri.yml' ,'EasyMocap/data')"
   ]
  },
  {
   "cell_type": "markdown",
   "metadata": {},
   "source": [
    "If you end up making a mess, there’s always the cleanhandmocap.py function, which lets you clean up the folder you’re working in.\n"
   ]
  },
  {
   "cell_type": "code",
   "execution_count": null,
   "metadata": {},
   "outputs": [],
   "source": [
    "#!python EasyMocap/apps/hopeitworks/cleanhandmocap.py"
   ]
  },
  {
   "cell_type": "markdown",
   "metadata": {},
   "source": [
    "The next function, to be used only once (the file will remain modified afterward), allows you to adjust certain parameters depending on whether the person in the video is right-handed or left-handed. Its use is recommended."
   ]
  },
  {
   "cell_type": "markdown",
   "metadata": {},
   "source": [
    "YOU HAVE TO RUN IT IN THE TERMINAL\n",
    "\n",
    "run the command \"  cd ..  \" multiple times untill you arrive at the point where the terminal is like: PS C:\\Users\\USERNAME>\n",
    "\n",
    "then run:\n",
    "\n",
    "python EasyMocap/apps/hopeitworks/choosehand.py\n",
    "\n",
    "and follow the instructions"
   ]
  },
  {
   "cell_type": "markdown",
   "metadata": {},
   "source": [
    "Ok. Now let's move on to extracting the images using the next notebook... make sure you're always in the main directory, using the command at the beginning of the notebook."
   ]
  },
  {
   "cell_type": "code",
   "execution_count": null,
   "metadata": {
    "colab": {
     "base_uri": "https://localhost:8080/"
    },
    "id": "MA8t-dfh8SES",
    "outputId": "4fa6fa53-2ff3-4620-ad8a-6db8ff45bed2"
   },
   "outputs": [],
   "source": [
    "##ESTRAE IMMAGINI DA VIDEO\n",
    "import time\n",
    "import os\n",
    "# Inizio del timer\n",
    "start_time = time.time()\n",
    "\n",
    "# ESTRAZIONE IMMAGINI\n",
    "!python EasyMocap/apps/preprocess/extract_image.py EasyMocap/data\n",
    "\n",
    "# Fine del timer\n",
    "end_time = time.time()\n",
    "elapsed_time = end_time - start_time\n",
    "# Salva il tempo in un file txt\n",
    "with open('EasyMocap/data/times.txt', 'a') as f:\n",
    "    f.write(f't extract_image, {elapsed_time:.2f}\\n')"
   ]
  },
  {
   "cell_type": "markdown",
   "metadata": {},
   "source": [
    "Keypoints computation..."
   ]
  },
  {
   "cell_type": "code",
   "execution_count": null,
   "metadata": {
    "colab": {
     "base_uri": "https://localhost:8080/"
    },
    "id": "lsU8Wve_6Qqv",
    "outputId": "702d0c3f-555a-48bd-cc65-95f561132c15"
   },
   "outputs": [],
   "source": [
    "##ESTRAE KEYPOINTS\n",
    "import time\n",
    "import os\n",
    "import json\n",
    "import shutil\n",
    "# Inizio del timer\n",
    "start_time = time.time()\n",
    "\n",
    "## MANO SINISTRA\n",
    "!python EasyMocap/apps/preprocess/extract_keypoints.py EasyMocap/data --mode mp-handl\n",
    "## RINOMINA ANNOTS IN ANNOTSL PER CONVENIENZA DEL SUCCESSIVO ANNOT (DELLA MANO DESTRA)\n",
    "os.rename('EasyMocap/data/annots', 'EasyMocap/data/annotsl')\n",
    "## MANO DESTRA\n",
    "!python EasyMocap/apps/preprocess/extract_keypoints.py EasyMocap/data --mode mp-handr\n",
    "\n",
    "\n",
    "##INIZIO JOIN DELLE DUE CARTELLE ANNOTS\n",
    "\n",
    "# Define the path to your main folder\n",
    "main_folder_path = 'EasyMocap/data/annotsl'\n",
    "\n",
    "# Get a list of sub-folders within the main folder\n",
    "subfolders = [f.path for f in os.scandir(main_folder_path)]\n",
    "\n",
    "# Loop through each sub-folder\n",
    "for subfolder_path in subfolders:\n",
    "\n",
    "    # Get a list of JSON files within the sub-folder\n",
    "    json_files = [f.path for f in os.scandir(subfolder_path)]\n",
    "\n",
    "    # Loop through the JSON files in the sub-folder\n",
    "    for json_file_path in json_files:\n",
    "\n",
    "        # You can now read and process the JSON file\n",
    "        with open(json_file_path, 'r') as json_file:\n",
    "            data = json.load(json_file)\n",
    "            json_file_path_dest = json_file_path.replace(\"annotsl\", \"annots\")\n",
    "\n",
    "            # Step 1: Read the existing data from the destination JSON file\n",
    "            with open(json_file_path_dest, 'r') as json_file:\n",
    "                existing_data = json.load(json_file)\n",
    "\n",
    "            # Step 2: Modify or add new data to the existing data\n",
    "            existing_data[\"annots\"][0][\"handl2d\"] =  data[\"annots\"][0][\"handl2d\"]\n",
    "            existing_data[\"annots\"][0][\"bbox_handl2d\"] =  data[\"annots\"][0][\"bbox_handl2d\"]\n",
    "\n",
    "            # Step 3: Write the updated data back to the JSON file\n",
    "            with open(json_file_path_dest, 'w') as json_file:\n",
    "                json.dump(existing_data, json_file, indent=4)\n",
    "\n",
    "shutil.rmtree('EasyMocap/data/annotsl')\n",
    "##FINE JOIN DELLE DUE CARTELLE ANNOTS\n",
    "\n",
    "# Fine del timer\n",
    "end_time = time.time()\n",
    "elapsed_time = end_time - start_time\n",
    "# Salva il tempo in un file txt\n",
    "with open('EasyMocap/data/times.txt', 'a') as f:\n",
    "    f.write(f't extract_keypoints, {elapsed_time:.2f}\\n')\n",
    "\n",
    "##in times.txt, SCRIVERE A INIZIO FILE NUMERO FRAME E NUMERO FPS CON QUESTO FORMATO EX. (#FRAMES, 434 /n #FPS, 9)"
   ]
  },
  {
   "cell_type": "markdown",
   "metadata": {},
   "source": [
    "Finally triangulation..."
   ]
  },
  {
   "cell_type": "code",
   "execution_count": null,
   "metadata": {
    "colab": {
     "base_uri": "https://localhost:8080/"
    },
    "id": "JKMnfC5pDVsl",
    "outputId": "18263a08-1106-47bf-be77-dd9f21bbb633",
    "scrolled": true
   },
   "outputs": [],
   "source": [
    "##TRIANGOLAZIONE K2D->K3D\n",
    "import time\n",
    "\n",
    "# Inizio del timer\n",
    "start_time = time.time()\n",
    "\n",
    "!python EasyMocap/apps/fit/triangulate1p.py --cfg_data EasyMocap/config/recon/mv1p.yml --opt_data args.path EasyMocap/data args.out EasyMocap/data/output-keypoints3d --cfg_exp EasyMocap/config/recon/triangulator-mv1p-total.yml --opt_exp  args.debug True\n",
    "\n",
    "# Fine del timer\n",
    "end_time = time.time()\n",
    "elapsed_time = end_time - start_time\n",
    "# Salva il tempo in un file txt\n",
    "with open('EasyMocap/data/times.txt', 'a') as f:\n",
    "    f.write(f't triangulate, {elapsed_time:.2f}\\n')"
   ]
  },
  {
   "cell_type": "markdown",
   "metadata": {},
   "source": [
    "If everything went well, we can proceed by navigating to the folder `C:\\Users\\USERNAME\\EasyMocap\\data\\output-keypoints3d\\match` (using Windows Folders explorer is faster).  \n",
    "\n",
    "We can then scroll through the images by holding down the arrow key (the images are located in `C:\\Users\\USERNAME\\EasyMocap\\data\\output-keypoints3d\\match`) and select the frames corresponding to the **O**, **X**, and **Y** reference points—i.e., where the fingertip is best aligned with the three points we discussed earlier.  \n",
    "\n",
    "Now, note down the frame numbers for these three keyframes, then go to the folder `EasyMocap/data/output-keypoints3d/keypoints3d`, open the corresponding JSON files for the selected frames, and extract the three coordinate values for `handr 8` (right hand index finger).  \n",
    "\n",
    "Write these values into a file named `newcoordinates.txt` (you can find it in `EasyMocap/data` with some placeholder values—just overwrite them) using the following format:  \n",
    "\n",
    "O: 0.1656968, 0.4882543, 0.2202636\n",
    "\n",
    "X: 0.0809912, 0.4186054, 0.2154134\n",
    "\n",
    "Y: 0.2596883, 0.3956782, 0.2286461\n",
    "\n",
    "**Important:** Do **not** copy indices `0`, `1`, and `2`—they represent the coordinate axes (X, Y, Z), not the actual values! And obviously, remember to save the updated `newcoordinates.txt`.  "
   ]
  },
  {
   "cell_type": "markdown",
   "metadata": {},
   "source": [
    "Now we begin the REORIENTATION phase\n",
    "\n",
    "FIRST STEP\n",
    "We transform the extrinsic calibration file so that it describes the rototranslations needed to convert from the GLOBAL reference system to the LOCAL reference system.\n",
    "\n",
    "This is necessary because the calibration process outputs an extrinsic file describing the inverse transformation—that is, the rototranslation required to go from the LOCAL reference system (each camera's frame) to the GLOBAL reference system (in this case, fixed at the origin of the checkerboard used during calibration).\n",
    "\n",
    "By modifying this file, we ensure it correctly represents the desired world-to-camera transformation instead of the original camera-to-world relationship."
   ]
  },
  {
   "cell_type": "code",
   "execution_count": null,
   "metadata": {},
   "outputs": [],
   "source": [
    "!python EasyMocap/apps/hopeitworks/rototrasla_yaml.py EasyMocap/data/extri.yml"
   ]
  },
  {
   "cell_type": "markdown",
   "metadata": {},
   "source": [
    "SECOND STEP\n",
    "To confirm what has been done so far, we can use the next function to plot the .yml file obtained from the previous function. The local reference systems now take on a tangible three-dimensional meaning, traceable back to the real configuration of the system."
   ]
  },
  {
   "cell_type": "code",
   "execution_count": null,
   "metadata": {},
   "outputs": [],
   "source": [
    "#!python EasyMocap/apps/hopeitworks/visualizza_yaml.py EasyMocap/data/extri_inv.yml"
   ]
  },
  {
   "cell_type": "markdown",
   "metadata": {},
   "source": [
    "THIRD STEP\n",
    "Now we can proceed with the actual reorientation of the global reference system using the following function (which utilizes the newcoordinates text file written earlier)."
   ]
  },
  {
   "cell_type": "code",
   "execution_count": null,
   "metadata": {},
   "outputs": [],
   "source": [
    "!python EasyMocap/apps/hopeitworks/riorienta_sistemaglobale.py EasyMocap/data/extri_inv.yml EasyMocap/data/newcordinate.txt"
   ]
  },
  {
   "cell_type": "markdown",
   "metadata": {},
   "source": [
    "FOURTH STEP\n",
    "By invoking the 3D visualization function again, we can check whether the global system has been correctly reoriented."
   ]
  },
  {
   "cell_type": "code",
   "execution_count": null,
   "metadata": {},
   "outputs": [],
   "source": [
    "#!python EasyMocap/apps/hopeitworks/visualizza_yaml.py EasyMocap/data/extri_inv_reoriented.yml"
   ]
  },
  {
   "cell_type": "markdown",
   "metadata": {},
   "source": [
    "FIFTH STEP\n",
    "It is essential to return to the original point of view (POV) used initially.\n",
    "This is done by rototranslating the file again to return to a local-to-global representation."
   ]
  },
  {
   "cell_type": "code",
   "execution_count": null,
   "metadata": {},
   "outputs": [],
   "source": [
    "!python EasyMocap/apps/hopeitworks/rototrasla_yaml.py EasyMocap/data/extri_inv_reoriented.yml"
   ]
  },
  {
   "cell_type": "markdown",
   "metadata": {},
   "source": [
    "Now let’s make the new extri file the official one by running the replacement function:\n",
    "sostituisciextri.py\n",
    "\n",
    "(This script will overwrite/update the existing extrinsic calibration file with the newly adjusted parameters.)"
   ]
  },
  {
   "cell_type": "code",
   "execution_count": null,
   "metadata": {},
   "outputs": [],
   "source": [
    "!python EasyMocap/apps/hopeitworks/sostituisciextri.py EasyMocap/data"
   ]
  },
  {
   "cell_type": "markdown",
   "metadata": {},
   "source": [
    "Now let’s verify if our new reference system is correct and properly aligned with our component using the cube function (the same one used during calibration).\n",
    "\n",
    "You’ll find the results in the folder:\n",
    "EasyMocap/data/cube"
   ]
  },
  {
   "cell_type": "code",
   "execution_count": null,
   "metadata": {},
   "outputs": [],
   "source": [
    "!python EasyMocap/apps/calibration/check_calib.py EasyMocap/data --out EasyMocap/data --mode cube --write"
   ]
  },
  {
   "cell_type": "markdown",
   "metadata": {},
   "source": [
    "Most of the time, some adjustments will be needed... Don’t worry, it’s very simple. Our reference system might not be centered at the origin, or the X and Y axes might not be aligned with our component. To fix this, just repeat the previous steps iteratively until the desired result is achieved.\n",
    "\n",
    "To do this, change the values related to a single variable (either O, X, or Y) in the newtuning.txt file one at a time (to avoid drastic changes). Remember, the values are in meters.\n",
    "\n",
    "For example:\n",
    "\n",
    "If you want the new X-axis to rotate clockwise around the Z-axis, enter a negative Y value.\n",
    "\n",
    "Also, keep in mind that the reorient function tries to make the axes of the \"new\" global system pass through the coordinates of the points specified in the \"previous\" global system (for clarity).\n",
    "\n",
    "Once you’ve updated newtuning.txt, proceed with the cell below."
   ]
  },
  {
   "cell_type": "code",
   "execution_count": null,
   "metadata": {},
   "outputs": [],
   "source": [
    "#ITERAZIONE ripetiamo comandi precedenti e controlliamo proiezione cubo...\n",
    "!python EasyMocap/apps/hopeitworks/rototrasla_yaml.py EasyMocap/data/extri.yml\n",
    "!python EasyMocap/apps/hopeitworks/riorienta_sistemaglobale.py EasyMocap/data/extri_inv.yml EasyMocap/data/newtuning.txt\n",
    "!python EasyMocap/apps/hopeitworks/rototrasla_yaml.py EasyMocap/data/extri_inv_reoriented.yml\n",
    "!python EasyMocap/apps/hopeitworks/sostituisciextri.py EasyMocap/data\n",
    "!python EasyMocap/apps/hopeitworks/ripristinatuning.py EasyMocap/data\n",
    "!python EasyMocap/apps/calibration/check_calib.py EasyMocap/data --out EasyMocap/data --mode cube --write"
   ]
  },
  {
   "cell_type": "markdown",
   "metadata": {},
   "source": [
    "OPTION A: Further tuning required → Write the new desired values in newtuning.txt, then run the cell #ITERAZIONE again."
   ]
  },
  {
   "cell_type": "markdown",
   "metadata": {},
   "source": [
    "OPTION B: We are happy with the results.\n",
    "In this case, we can save the results in YAML files using the cell below. Our task is complete! :)"
   ]
  },
  {
   "cell_type": "code",
   "execution_count": null,
   "metadata": {},
   "outputs": [],
   "source": [
    "import shutil\n",
    "\n",
    "shutil.copy('EasyMocap/data/extri.yml', 'EasyMocap/yamls/REORIENTED')\n",
    "shutil.copy('EasyMocap/data/intri.yml', 'EasyMocap/yamls/REORIENTED')"
   ]
  },
  {
   "cell_type": "markdown",
   "metadata": {},
   "source": [
    "See you in the next tutorial"
   ]
  }
 ],
 "metadata": {
  "accelerator": "GPU",
  "colab": {
   "gpuType": "T4",
   "provenance": []
  },
  "kernelspec": {
   "display_name": "Python 3 (ipykernel)",
   "language": "python",
   "name": "python3"
  },
  "language_info": {
   "codemirror_mode": {
    "name": "ipython",
    "version": 3
   },
   "file_extension": ".py",
   "mimetype": "text/x-python",
   "name": "python",
   "nbconvert_exporter": "python",
   "pygments_lexer": "ipython3",
   "version": "3.9.23"
  }
 },
 "nbformat": 4,
 "nbformat_minor": 4
}
