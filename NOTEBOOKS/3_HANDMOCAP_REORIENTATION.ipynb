{
 "cells": [
  {
   "cell_type": "markdown",
   "metadata": {},
   "source": [
    "Before starting let's go back to out main directory. In USERNAME write the user path you are using..."
   ]
  },
  {
   "cell_type": "code",
   "execution_count": null,
   "metadata": {},
   "outputs": [],
   "source": [
    "import os \n",
    "os.chdir('C:/Users/USERNAME/')"
   ]
  },
  {
   "cell_type": "markdown",
   "metadata": {},
   "source": [
    "During this phase, we will do two things:\n",
    "\n",
    "->Get familiar with the functions used for motion capture.\n",
    "\n",
    "->Reorient the global coordinate system of the cameras to make it much easier to later construct the bounding boxes used to detect the component being worked on.\n",
    "\n",
    "Before doing anything, record some videos (always under 1 minute) with the following characteristics:\n",
    "\n",
    "->Hand movements should not be too fast.\n",
    "\n",
    "->The videos should start with the operator slowly opening and closing both hands above the component.\n",
    "\n",
    "However, there is still one important consideration: in order to simplify the later description of volumes (bounding boxes of components) in 3D space, the global coordinate system must at least be consistent and aligned with certain key points (belonging to the unit on the workbench) chosen arbitrarily by the user.\n",
    "\n",
    "We will therefore choose to record videos in which the user, moving their right index finger (marked by keypoint number 8), points to 3 locations on the component:\n",
    "-The origin of the new coordinate system (referred to as O from now on)\n",
    "-A point along the new X-axis  (referred to as X from now on)\n",
    "-A point along the new Y-axis (referred to as Y from now on)\n",
    "\n",
    "Important note! The user must ensure that these points are chosen so that there is already an orthogonal geometry between the X and Y points (for example, if thinking about a motherboard, it would be advisable to place these two points on two opposite corners).\n",
    "Important note 2! To avoid \"non-perfectly aligned global coordinate systems\" due to small deviations between the real 3D position of the keypoint and the triangulated position calculated by the motion capture functions, it is recommended to place the X and Y points as far as possible from the chosen origin, while still remaining on the component"
   ]
  },
  {
   "cell_type": "markdown",
   "metadata": {},
   "source": [
    "Per iniziare, andiamo a creare all'interno della cartella EasyMocap/data la cartella videos, e carichiamo al suo interno i file di calibrazione e i video che si vogliono utilizzare per la motion capture atta al fine tuning del sistema di riferimento.\n",
    "In quanto alle caratteristiche dei video, valgono le stesse considerazioni utilizzate in fase di calibrazione.\n",
    "Dopo aver caricato i video carichiamo anche i file extri.yml e intri.yml precedentemente ottenuti durante la fase di calibrazione e contenuti in extri_data."
   ]
  },
  {
   "cell_type": "code",
   "execution_count": null,
   "metadata": {},
   "outputs": [],
   "source": [
    "import os \n",
    "import shutil\n",
    "\n",
    "os.makedirs('EasyMocap/data/videos', exist_ok=True)\n",
    "shutil.copy('EasyMocap/yamls/intri.yml' ,'EasyMocap/data')\n",
    "shutil.copy('EasyMocap/yamls/extri.yml' ,'EasyMocap/data')"
   ]
  },
  {
   "cell_type": "markdown",
   "metadata": {},
   "source": [
    "Nel caso in cui combinaste pasticci, c'è sempre la funzione cleanhandmocap.py che vi permette di ripulire la cartella che \n",
    "state utilizzando.\n",
    "La prossima funzione, da utilizzare una volta sola (poi il file rimane modificato) permette di cambiare alcuni parametri a seconda che l'operatore nel video è destro o mancino. Si consiglia il suo utlizzo."
   ]
  },
  {
   "cell_type": "code",
   "execution_count": null,
   "metadata": {},
   "outputs": [],
   "source": [
    "!python EasyMocap/apps/hopeitworks/cleanhandmocap.py"
   ]
  },
  {
   "cell_type": "code",
   "execution_count": null,
   "metadata": {},
   "outputs": [],
   "source": [
    "#YOU HAVE TO RUN IT IN THE TERMINAL, without the ! before python\n",
    "#!python EasyMocap/apps/hopeitworks/choosehand.py"
   ]
  },
  {
   "cell_type": "markdown",
   "metadata": {},
   "source": [
    "Ok. Ora passiamo all'estrazione delle immagini tramite il prossimo notebook...assicuratevi di essere sempre nella directory principale, tramite il comando posto in alto."
   ]
  },
  {
   "cell_type": "code",
   "execution_count": null,
   "metadata": {
    "colab": {
     "base_uri": "https://localhost:8080/"
    },
    "id": "MA8t-dfh8SES",
    "outputId": "4fa6fa53-2ff3-4620-ad8a-6db8ff45bed2"
   },
   "outputs": [],
   "source": [
    "##ESTRAE IMMAGINI DA VIDEO\n",
    "import time\n",
    "import os\n",
    "# Inizio del timer\n",
    "start_time = time.time()\n",
    "\n",
    "# ESTRAZIONE IMMAGINI\n",
    "!python EasyMocap/apps/preprocess/extract_image.py EasyMocap/data\n",
    "\n",
    "# Fine del timer\n",
    "end_time = time.time()\n",
    "elapsed_time = end_time - start_time\n",
    "# Salva il tempo in un file txt\n",
    "with open('EasyMocap/data/times.txt', 'a') as f:\n",
    "    f.write(f't extract_image, {elapsed_time:.2f}\\n')"
   ]
  },
  {
   "cell_type": "code",
   "execution_count": null,
   "metadata": {},
   "outputs": [],
   "source": [
    "Al calcolo dei keypoints..."
   ]
  },
  {
   "cell_type": "code",
   "execution_count": null,
   "metadata": {
    "colab": {
     "base_uri": "https://localhost:8080/"
    },
    "id": "lsU8Wve_6Qqv",
    "outputId": "702d0c3f-555a-48bd-cc65-95f561132c15"
   },
   "outputs": [],
   "source": [
    "##ESTRAE KEYPOINTS\n",
    "import time\n",
    "import os\n",
    "import json\n",
    "import shutil\n",
    "# Inizio del timer\n",
    "start_time = time.time()\n",
    "\n",
    "## MANO SINISTRA\n",
    "!python EasyMocap/apps/preprocess/extract_keypoints.py EasyMocap/data --mode mp-handl\n",
    "## RINOMINA ANNOTS IN ANNOTSL PER CONVENIENZA DEL SUCCESSIVO ANNOT (DELLA MANO DESTRA)\n",
    "os.rename('EasyMocap/data/annots', 'EasyMocap/data/annotsl')\n",
    "## MANO DESTRA\n",
    "!python EasyMocap/apps/preprocess/extract_keypoints.py EasyMocap/data --mode mp-handr\n",
    "\n",
    "\n",
    "##INIZIO JOIN DELLE DUE CARTELLE ANNOTS\n",
    "\n",
    "# Define the path to your main folder\n",
    "main_folder_path = 'EasyMocap/data/annotsl'\n",
    "\n",
    "# Get a list of sub-folders within the main folder\n",
    "subfolders = [f.path for f in os.scandir(main_folder_path)]\n",
    "\n",
    "# Loop through each sub-folder\n",
    "for subfolder_path in subfolders:\n",
    "\n",
    "    # Get a list of JSON files within the sub-folder\n",
    "    json_files = [f.path for f in os.scandir(subfolder_path)]\n",
    "\n",
    "    # Loop through the JSON files in the sub-folder\n",
    "    for json_file_path in json_files:\n",
    "\n",
    "        # You can now read and process the JSON file\n",
    "        with open(json_file_path, 'r') as json_file:\n",
    "            data = json.load(json_file)\n",
    "            json_file_path_dest = json_file_path.replace(\"annotsl\", \"annots\")\n",
    "\n",
    "            # Step 1: Read the existing data from the destination JSON file\n",
    "            with open(json_file_path_dest, 'r') as json_file:\n",
    "                existing_data = json.load(json_file)\n",
    "\n",
    "            # Step 2: Modify or add new data to the existing data\n",
    "            existing_data[\"annots\"][0][\"handl2d\"] =  data[\"annots\"][0][\"handl2d\"]\n",
    "            existing_data[\"annots\"][0][\"bbox_handl2d\"] =  data[\"annots\"][0][\"bbox_handl2d\"]\n",
    "\n",
    "            # Step 3: Write the updated data back to the JSON file\n",
    "            with open(json_file_path_dest, 'w') as json_file:\n",
    "                json.dump(existing_data, json_file, indent=4)\n",
    "\n",
    "shutil.rmtree('EasyMocap/data/annotsl')\n",
    "##FINE JOIN DELLE DUE CARTELLE ANNOTS\n",
    "\n",
    "# Fine del timer\n",
    "end_time = time.time()\n",
    "elapsed_time = end_time - start_time\n",
    "# Salva il tempo in un file txt\n",
    "with open('EasyMocap/data/times.txt', 'a') as f:\n",
    "    f.write(f't extract_keypoints, {elapsed_time:.2f}\\n')\n",
    "\n",
    "##in times.txt, SCRIVERE A INIZIO FILE NUMERO FRAME E NUMERO FPS CON QUESTO FORMATO EX. (#FRAMES, 434 /n #FPS, 9)"
   ]
  },
  {
   "cell_type": "markdown",
   "metadata": {},
   "source": [
    "E infine alla triangolazione..."
   ]
  },
  {
   "cell_type": "code",
   "execution_count": null,
   "metadata": {
    "colab": {
     "base_uri": "https://localhost:8080/"
    },
    "id": "JKMnfC5pDVsl",
    "outputId": "18263a08-1106-47bf-be77-dd9f21bbb633",
    "scrolled": true
   },
   "outputs": [],
   "source": [
    "##TRIANGOLAZIONE K2D->K3D\n",
    "import time\n",
    "\n",
    "# Inizio del timer\n",
    "start_time = time.time()\n",
    "\n",
    "!python EasyMocap/apps/fit/triangulate1p.py --cfg_data EasyMocap/config/recon/mv1p.yml --opt_data args.path EasyMocap/data args.out EasyMocap/data/output-keypoints3d --cfg_exp EasyMocap/config/recon/triangulator-mv1p-total.yml --opt_exp  args.debug True\n",
    "\n",
    "# Fine del timer\n",
    "end_time = time.time()\n",
    "elapsed_time = end_time - start_time\n",
    "# Salva il tempo in un file txt\n",
    "with open('EasyMocap/data/times.txt', 'a') as f:\n",
    "    f.write(f't triangulate, {elapsed_time:.2f}\\n')"
   ]
  },
  {
   "cell_type": "markdown",
   "metadata": {},
   "source": [
    "Se tutto è andato a buon fine, possiamo continuare andando nella cartella data->match (guardate usando le cartelle di windows è piu veloce scorrere le immagini con la freccia tenendo premuto, trovate le immagini in C:\\Users\\USERNAME\\EasyMocap\\data\\output-keypoints3d\\match) e scegliere i frame corrispondenti a indice in punto O, X e Y ovvero in cui il dito è meglio collocato nei 3 punti di cui parlavamo prima.\n",
    "Ora non rimane che segnarsi i numeri corrispondenti a questi 3 frame, andare nella cartella outputkeypoints3d, aprire i corrispondenti file json dei frame scelti e scrivere i valori delle cordinate handr 8 (mano destra indice) in un file chiamato newcordinate.txt (salvandolo in data) con la seguente struttura (trovate un esempio in data, volendo modificate quello):\n",
    "\n",
    "O: 0.1656968, 0.4882543, 0.2202636\n",
    "\n",
    "X: 0.0809912, 0.4186054, 0.2154134\n",
    "\n",
    "Y: 0.2596883, 0.3956782, 0.2286461"
   ]
  },
  {
   "cell_type": "markdown",
   "metadata": {},
   "source": [
    "Ora iniziamo alla fase di riorientamento\n",
    "\n",
    "*PRIMO STEP*\n",
    "\n",
    "Trasformiamo il file di calibrazione estrinseco in modo che questo descriva le rototraslazioni necessarie per passare da \n",
    "sistema di riferimento GLOBALE a sistema LOCALE.\n",
    "Questo perchè la calibrazione da come output un file extri in cui invece è descritto l'inverso, ovvero la rototraslazione necessaria\n",
    "per passare dal sistema di riferimento LOCALE (quindi quello di ogni telecamera) a quello GLOBALE (in questo caso fissato nell'origine della scacchiera usata durante la fase di calibrazione."
   ]
  },
  {
   "cell_type": "code",
   "execution_count": null,
   "metadata": {},
   "outputs": [],
   "source": [
    "!python EasyMocap/apps/hopeitworks/rototrasla_yaml.py EasyMocap/data/extri.yml"
   ]
  },
  {
   "cell_type": "markdown",
   "metadata": {},
   "source": [
    "SECONDO STEP\n",
    "Ora, con la prossima funzione possiamo plottare il file .yml ottenuto dalla precedente funzione.\n",
    "I sistemi di riferimento locali assumono quindi un significato tridimensionale tangibile e ricollegabile \n",
    "alla configurazione reale del sistema..."
   ]
  },
  {
   "cell_type": "code",
   "execution_count": null,
   "metadata": {},
   "outputs": [],
   "source": [
    "#!python EasyMocap/apps/hopeitworks/visualizza_yaml.py EasyMocap/data/extri_inv.yml"
   ]
  },
  {
   "cell_type": "markdown",
   "metadata": {},
   "source": [
    "TERZO STEP \n",
    "Ora possiamo passare al effettivo riorientamento del sistema di riferimento globale utilizzando la seguente funzione"
   ]
  },
  {
   "cell_type": "code",
   "execution_count": null,
   "metadata": {},
   "outputs": [],
   "source": [
    "!python EasyMocap/apps/hopeitworks/riorienta_sistemaglobale.py EasyMocap/data/extri_inv.yml EasyMocap/data/newcordinate.txt"
   ]
  },
  {
   "cell_type": "markdown",
   "metadata": {},
   "source": [
    "QUARTO STEP \n",
    "Invocando di nuovo la funzione per la visualizzazione 3d possiamo fare un check se il sistema globale è stato\n",
    "riorientato correttamente..."
   ]
  },
  {
   "cell_type": "code",
   "execution_count": null,
   "metadata": {},
   "outputs": [],
   "source": [
    "#!python EasyMocap/apps/hopeitworks/visualizza_yaml.py EasyMocap/data/extri_inv_reoriented.yml"
   ]
  },
  {
   "cell_type": "markdown",
   "metadata": {},
   "source": [
    "QUINTO STEP\n",
    "Risulta essenziale tornare al pov originale utilizzato inizialmente. \n",
    "Questo viene fatto rototraslando di nuovo il file per tornare a una rappresentazione locale->globale."
   ]
  },
  {
   "cell_type": "code",
   "execution_count": null,
   "metadata": {},
   "outputs": [],
   "source": [
    "!python EasyMocap/apps/hopeitworks/rototrasla_yaml.py EasyMocap/data/extri_inv_reoriented.yml"
   ]
  },
  {
   "cell_type": "markdown",
   "metadata": {},
   "source": [
    "Ora rendiamo il nuovo file extri quello \"ufficiale\" tramite la funzione sostituisciextri.py"
   ]
  },
  {
   "cell_type": "code",
   "execution_count": null,
   "metadata": {},
   "outputs": [],
   "source": [
    "!python EasyMocap/apps/hopeitworks/sostituisciextri.py EasyMocap/data"
   ]
  },
  {
   "cell_type": "markdown",
   "metadata": {},
   "source": [
    "Ora controlliamo se il nostro nuovo sistema di riferimento è corretto e allineato al nostro componente tramite la funzione cube utilizzata in fase di calibrazione.."
   ]
  },
  {
   "cell_type": "code",
   "execution_count": null,
   "metadata": {},
   "outputs": [],
   "source": [
    "!python EasyMocap/apps/calibration/check_calib.py EasyMocap/data --out EasyMocap/data --mode cube --write"
   ]
  },
  {
   "cell_type": "markdown",
   "metadata": {},
   "source": [
    "La maggior parte delle volte, vi saranno degli aggiustamenti da fare...niente paura, è molto semplice.\n",
    "Il nostro sistema di riferimento potrebbe essere non centrato sull'origine, oppure gli assi x e y potrebbero non essere allineati al nostro componente.\n",
    "Per risolvere baster ripetere i passaggi visti precedentemente in maniera iterativa, fino a raggiungere il risultato sperato...\n",
    "Basterà cambiare (uno alla volta per non stravolgere troppo) i valori relativi a una singola variabile (o O o X o Y) all'interno del file newtuning.txt (ricordarsi che i valori sono in metri).\n",
    "Inoltre ricordarsi che la funzione riorienta cerca di far passare gli assi del sistema globale \"nuovo\" per le posizioni specificate nell'asse globale \"precedente\" (per intenderci).\n",
    "Una volta cambiato newtuning possiamo procedere con la cella sotto:"
   ]
  },
  {
   "cell_type": "code",
   "execution_count": null,
   "metadata": {},
   "outputs": [],
   "source": [
    "#ITERAZIONE ripetiamo comandi precedenti e controlliamo proiezione cubo...\n",
    "!python EasyMocap/apps/hopeitworks/rototrasla_yaml.py EasyMocap/data/extri.yml\n",
    "!python EasyMocap/apps/hopeitworks/riorienta_sistemaglobale.py EasyMocap/data/extri_inv.yml EasyMocap/data/newtuning.txt\n",
    "!python EasyMocap/apps/hopeitworks/rototrasla_yaml.py EasyMocap/data/extri_inv_reoriented.yml\n",
    "!python EasyMocap/apps/hopeitworks/sostituisciextri.py EasyMocap/data\n",
    "!python EasyMocap/apps/calibration/check_calib.py EasyMocap/data --out EasyMocap/data --mode cube --write"
   ]
  },
  {
   "cell_type": "markdown",
   "metadata": {},
   "source": [
    "OPZIONE A: ulteriore tuning necessario-> procediamo con il ripristinare il nostro file newtuning, scrivere i nuovi valori voluti, e runnare di nuovo la cella #ITERAZIONE"
   ]
  },
  {
   "cell_type": "code",
   "execution_count": null,
   "metadata": {},
   "outputs": [],
   "source": [
    "!python EasyMocap/apps/hopeitworks/ripristinatuning.py EasyMocap/data"
   ]
  },
  {
   "cell_type": "markdown",
   "metadata": {},
   "source": [
    "OPZIONE B: siamo contenti dei risultati.\n",
    "In questo caso possiamo salvare i risultati in yamls con la cella sotto. Il nostro compito è concluso :)"
   ]
  },
  {
   "cell_type": "code",
   "execution_count": null,
   "metadata": {},
   "outputs": [],
   "source": [
    "import shutil\n",
    "\n",
    "shutil.copy('EasyMocap/data/extri.yml', 'EasyMocap/yamls/REORIENTED')\n",
    "shutil.copy('EasyMocap/data/intri.yml', 'EasyMocap/yamls/REORIENTED')"
   ]
  },
  {
   "cell_type": "markdown",
   "metadata": {},
   "source": [
    "See you in the next tutorial"
   ]
  }
 ],
 "metadata": {
  "accelerator": "GPU",
  "colab": {
   "gpuType": "T4",
   "provenance": []
  },
  "kernelspec": {
   "display_name": "Python 3 (ipykernel)",
   "language": "python",
   "name": "python3"
  },
  "language_info": {
   "codemirror_mode": {
    "name": "ipython",
    "version": 3
   },
   "file_extension": ".py",
   "mimetype": "text/x-python",
   "name": "python",
   "nbconvert_exporter": "python",
   "pygments_lexer": "ipython3",
   "version": "3.9.21"
  }
 },
 "nbformat": 4,
 "nbformat_minor": 4
}
