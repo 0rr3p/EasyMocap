{
 "cells": [
  {
   "cell_type": "markdown",
   "id": "ad66c7e2-aff2-46b2-8993-14dd2834f184",
   "metadata": {},
   "source": [
    "Before starting let's go back to out main directory. In USERNAME write the user path you are using..."
   ]
  },
  {
   "cell_type": "code",
   "execution_count": null,
   "id": "b088b172-bd2f-46f6-898d-1aa05e7fe9e4",
   "metadata": {},
   "outputs": [],
   "source": [
    "import os \n",
    "os.chdir('C:/Users/USERNAME/')"
   ]
  },
  {
   "cell_type": "markdown",
   "id": "1f1a1bf1-09c3-4266-9cb3-e6979e2c56f0",
   "metadata": {},
   "source": [
    "Welcome to the calibration demo.\n",
    "Before you begin, obtain a rigid checkerboard with an odd number of internal corners (e.g., 9×7 or 10×8). If you don’t have one, cover some of the squares on a regular checkerboard with white paper to achieve the desired pattern.\n",
    "Remember that the dimensions used by the algorithms refer to the number of internal corners, which is always one less than the number of squares. For example, a 10×8 board will be interpreted as a 9×7 pattern, and so on.\n",
    "Next, measure the size of a single square on your checkerboard and convert that length into meters—you will need this value later.\n",
    "Recording Your Calibration Videos\n",
    "1 Record synchronized video from your multi-camera setup, making sure the checkerboard is clearly visible in the first frame for each camera you plan to calibrate.  \n",
    "2 Save these videos and rename them according to the camera names you’ve chosen—ideally reflecting each camera’s position in 3D space.  \n",
    "3 Ensure all videos are:\n",
    "   - Synchronized (no more than 2–3 frames difference between cameras)  \n",
    "   - Short (no longer than 1 minute)  \n",
    "   - Recorded at the same frame rate (on streams7, adjust each camera’s internal frame drop to match).\n",
    "\n",
    "You can find an example of calibration videos in the various_data folder...\n",
    "\n",
    "Creating the Calibration Folders\n",
    "Now let’s create the directory structure we’ll use for calibration by invoking the following function:"
   ]
  },
  {
   "cell_type": "code",
   "execution_count": null,
   "id": "5c6660c9-1849-4556-b6d5-70109d3d74a1",
   "metadata": {},
   "outputs": [],
   "source": [
    "!python EasyMocap/apps/hopeitworks/creacartelle.py"
   ]
  },
  {
   "cell_type": "markdown",
   "id": "280bf097-abb0-4534-a646-57be716c304f",
   "metadata": {},
   "source": [
    "Now proceed to upload the videos (e.g. CAM1.mp4 CAM2.mp4) into the videos folders of both extri_data and intri_data\n",
    "\n",
    "PS If you ever want to clear the existing data in the two folders without deleting the videos, feel free to use the functions provided below by uncommenting them (removing the #)"
   ]
  },
  {
   "cell_type": "code",
   "execution_count": null,
   "id": "2b005539-6ac6-4db2-83d2-e50d746712e9",
   "metadata": {},
   "outputs": [],
   "source": [
    "#!python EasyMocap/apps/hopeitworks/cleanintri.py"
   ]
  },
  {
   "cell_type": "code",
   "execution_count": null,
   "id": "56ceac7c-791f-4869-be31-bd204897398a",
   "metadata": {},
   "outputs": [],
   "source": [
    "#!python EasyMocap/apps/hopeitworks/cleanextri.py"
   ]
  },
  {
   "cell_type": "markdown",
   "id": "cc79582b-dc26-453a-84d6-1952ecfaf6a1",
   "metadata": {},
   "source": [
    "PS Obvioulsy we have to create again the auxilary folders.."
   ]
  },
  {
   "cell_type": "code",
   "execution_count": null,
   "id": "c1a5cc0c-2e71-4611-9ff0-bfd9bb1a6869",
   "metadata": {},
   "outputs": [],
   "source": [
    "!python EasyMocap/apps/hopeitworks/creacartelle.py"
   ]
  },
  {
   "cell_type": "markdown",
   "id": "80f0d646-2793-4a00-b3fd-2aaf350d9561",
   "metadata": {},
   "source": [
    "Ok, now we can proceed with image extraction and chessboard detection using the following commands; of course, before doing so, change pattern and grid to your own values:"
   ]
  },
  {
   "cell_type": "code",
   "execution_count": null,
   "id": "e9495fbd-ea74-4f0f-b595-aafee654b6d1",
   "metadata": {},
   "outputs": [],
   "source": [
    "##INTRINSECO\n",
    "# Estrai le immagini per il dataset intrinseco\n",
    "!python EasyMocap/scripts/preprocess/extract_video.py EasyMocap/intri_data --no2d\n",
    "# Rileva la scacchiera per il dataset intrinseco\n",
    "!python EasyMocap/apps/calibration/detect_chessboard.py EasyMocap/intri_data --out EasyMocap/intri_data --pattern 9,7 --grid 0.05\n",
    "##ESTRINSECO\n",
    "# Estrai le immagini per il dataset estrinseco\n",
    "!python EasyMocap/scripts/preprocess/extract_video.py EasyMocap/extri_data --no2d\n",
    "# Rileva la scacchiera per il dataset estrinseco\n",
    "!python EasyMocap/apps/calibration/detect_chessboard.py EasyMocap/extri_data --out EasyMocap/extri_data --pattern 9,7 --grid 0.05"
   ]
  },
  {
   "cell_type": "markdown",
   "id": "ea0073c1-63fd-4e10-97ba-fd74b6523488",
   "metadata": {},
   "source": [
    "Let’s move on to camera calibration—first intrinsic, then extrinsic—using the following functions:"
   ]
  },
  {
   "cell_type": "code",
   "execution_count": null,
   "id": "8c08ecbc-f320-4b64-9b95-da2cc9515019",
   "metadata": {},
   "outputs": [],
   "source": [
    "# Calibrazione dei parametri intrinseci\n",
    "!python EasyMocap/apps/calibration/calib_intri.py EasyMocap/intri_data\n",
    "# Calibrazione dei parametri estrinseci\n",
    "!python EasyMocap/apps/calibration/calib_extri.py EasyMocap/extri_data --intri EasyMocap/intri_data/output/intri.yml\n",
    "##Semplice check con stampa CUBO\n",
    "!python EasyMocap/apps/calibration/check_calib.py EasyMocap/extri_data --out EasyMocap/extri_data --mode cube --write"
   ]
  },
  {
   "cell_type": "markdown",
   "id": "571e804a-7878-4b4d-b1f5-ebffcbe06ac1",
   "metadata": {},
   "source": [
    "Warning! This step may produce errors if OpenCV’s findChessboardCorners fails to detect the corners. Once you’ve confirmed the error is due to this, record new videos, trying different checkerboard angles.\n",
    "PS: the lower the checkerboard is relative to the camera plane, the higher the chance of success."
   ]
  },
  {
   "cell_type": "markdown",
   "id": "f0bfe471-6087-41cf-a1f6-b4d4d3f635af",
   "metadata": {},
   "source": [
    "Once you have some results, we can move on to the final step. \n",
    "Open the cube folder in extri_data..you should see images from each camera. \n",
    "Now take a close look at the cube projected in all four photos.\n",
    "\n",
    "OPTION A: The projected cube looks distorted… you must have made an error in one of the previous steps. Try to fix it—good luck.\n",
    "\n",
    "OPTION B: The cube is projected correctly… perfect! You’ve generated extri.yml and intri.yml, the files containing your cameras’ calibration data.\n",
    "\n",
    "OPTION C (most likely): The cube projects correctly, but the corner adjacent to the checkerboard appears in different positions depending on the camera."
   ]
  },
  {
   "cell_type": "markdown",
   "id": "d8e3eeb9-9170-432d-b9dd-5891497b94f6",
   "metadata": {},
   "source": [
    "OPTION C Resolution.\n",
    "Chances are your cameras will project the vertex to two distinct locations. \n",
    "\n",
    "Let's call these 2 positions X and Y..\n",
    "\n",
    "To resolve this, we will only adjust the cameras that place it at the point we’ll call X. Ignore those that place the vertex at point Y.\n",
    "To proceed, complete the cell below by replacing CAM1 and CAM2 with your video names (i.e., the camera names without .mp4) and run the cell."
   ]
  },
  {
   "cell_type": "code",
   "execution_count": null,
   "id": "d4c9994a-e9c0-4426-a237-75246257a1f6",
   "metadata": {},
   "outputs": [],
   "source": [
    "!python EasyMocap/apps/hopeitworks/ruotajsonintri.py CAM1\n",
    "!python EasyMocap/apps/hopeitworks/ruotajsonextri.py CAM1\n",
    "!python EasyMocap/apps/hopeitworks/ruotajsonintri.py CAM2\n",
    "!python EasyMocap/apps/hopeitworks/ruotajsonextri.py CAM2\n",
    "\n",
    "## add others if needed\n",
    "\n",
    "#RICALIBRAZIONE...con dati aggiornati\n",
    "!python EasyMocap/apps/calibration/calib_intri.py EasyMocap/intri_data\n",
    "!python EasyMocap/apps/calibration/calib_extri.py EasyMocap/extri_data --intri EasyMocap/intri_data/output/intri.yml\n",
    "!python EasyMocap/apps/calibration/check_calib.py EasyMocap/extri_data --out EasyMocap/extri_data --mode cube --write"
   ]
  },
  {
   "cell_type": "markdown",
   "id": "e203d9b2-15ff-49ca-b25c-65fc16f41076",
   "metadata": {},
   "source": [
    "Now check again the cube folder; If the cube is rendered correctly and all cameras share the same relative vertex position, congratulations—you’ve completed the calibration! In the next steps, we will see how the .yml files are used.\n",
    "Before closing, please copy the calibration files in their folder with the cell down below...\n",
    "See you in the next tutorial :)"
   ]
  },
  {
   "cell_type": "code",
   "execution_count": null,
   "id": "471da048-8317-472e-a73f-2c25ba76ef39",
   "metadata": {},
   "outputs": [],
   "source": [
    "import shutil\n",
    "\n",
    "shutil.copy('EasyMocap/extri_data/extri.yml', 'EasyMocap/yamls')\n",
    "shutil.copy('EasyMocap/extri_data/intri.yml', 'EasyMocap/yamls')"
   ]
  }
 ],
 "metadata": {
  "kernelspec": {
   "display_name": "Python 3 (ipykernel)",
   "language": "python",
   "name": "python3"
  },
  "language_info": {
   "codemirror_mode": {
    "name": "ipython",
    "version": 3
   },
   "file_extension": ".py",
   "mimetype": "text/x-python",
   "name": "python",
   "nbconvert_exporter": "python",
   "pygments_lexer": "ipython3",
   "version": "3.9.23"
  }
 },
 "nbformat": 4,
 "nbformat_minor": 5
}
